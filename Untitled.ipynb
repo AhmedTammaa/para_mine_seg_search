{
 "cells": [
  {
   "cell_type": "code",
   "execution_count": 3,
   "metadata": {},
   "outputs": [],
   "source": [
    "def determine_paragraph_boundaries(outputs):\n",
    "    predictions = torch.argmax(outputs.logits, dim=-1) # get the predicted labels\n",
    "    paragraph_boundaries = [] # initialize an empty list\n",
    "    for i, pred in enumerate(predictions): # loop over the predictions\n",
    "        if pred == 1: # if the prediction is 1 (a boundary)\n",
    "            paragraph_boundaries.append(i) # append the index to the list\n",
    "    return paragraph_boundaries\n"
   ]
  },
  {
   "cell_type": "code",
   "execution_count": 4,
   "metadata": {},
   "outputs": [],
   "source": [
    "def reconstruct_paragraphs(sentences, paragraph_boundaries):\n",
    "    paragraphs = [] # initialize an empty list\n",
    "    start = 0 # initialize the start index\n",
    "    for end in paragraph_boundaries: # loop over the end indices\n",
    "        paragraph = \" \".join(sentences[start:end+1]) # join the sentences from start to end\n",
    "        paragraphs.append(paragraph) # append the paragraph to the list\n",
    "        start = end + 1 # update the start index\n",
    "    return paragraphs\n"
   ]
  },
  {
   "cell_type": "code",
   "execution_count": 6,
   "metadata": {},
   "outputs": [],
   "source": [
    "from nltk.tokenize import sent_tokenize\n",
    "\n",
    "def tokenize_into_sentences(text):\n",
    "    sentences = sent_tokenize(text) # split text into sentences using nltk\n",
    "    return sentences\n"
   ]
  },
  {
   "cell_type": "code",
   "execution_count": 9,
   "metadata": {},
   "outputs": [
    {
     "name": "stderr",
     "output_type": "stream",
     "text": [
      "Some weights of BertForSequenceClassification were not initialized from the model checkpoint at bert-base-uncased and are newly initialized: ['classifier.bias', 'classifier.weight']\n",
      "You should probably TRAIN this model on a down-stream task to be able to use it for predictions and inference.\n"
     ]
    }
   ],
   "source": [
    "from transformers import BertTokenizer, BertForSequenceClassification\n",
    "import torch\n",
    "\n",
    "# Initialize the tokenizer and model\n",
    "tokenizer = BertTokenizer.from_pretrained('bert-base-uncased')\n",
    "model = BertForSequenceClassification.from_pretrained('bert-base-uncased')\n",
    "\n",
    "def segment_text_with_bert(text):\n",
    "    # Preprocess the text: Split into sentences or chunks\n",
    "    sentences = tokenize_into_sentences(text)  # You need to define this function\n",
    "\n",
    "    # Convert sentences to BERT's input format\n",
    "    inputs = tokenizer(sentences, padding=True, truncation=True, return_tensors=\"pt\")\n",
    "\n",
    "    # Predict with the model\n",
    "    with torch.no_grad():\n",
    "        outputs = model(**inputs)\n",
    "\n",
    "    # Post-processing to determine paragraph boundaries\n",
    "    # This part depends on how your model was trained and how it outputs predictions\n",
    "    paragraph_boundaries = determine_paragraph_boundaries(outputs)  # You need to define this function\n",
    "\n",
    "    # Reconstruct the text into paragraphs based on the predicted boundaries\n",
    "    paragraphs = reconstruct_paragraphs(sentences, paragraph_boundaries)  # You need to define this function\n",
    "\n",
    "    return paragraphs\n",
    "\n",
    "# Example usage\n",
    "text = \"\"\"\n",
    "The Ice Queen reigns in splendor and grace\n",
    "Her kingdom is a land of snow and frost\n",
    "She rules with wisdom, justice, and a trace\n",
    "Of magic that can charm or turn to cost\n",
    "\n",
    "She is the fairest of them all, they say\n",
    "Her beauty is as pure as winter's light\n",
    "She is the strongest of them all, they pray\n",
    "Her power is as fierce as winter's might\n",
    "\n",
    "She swore to protect her realm from harm\n",
    "From enemies who seek to melt her throne\n",
    "She leads her loyal army, brave and calm\n",
    "And makes her icy palace feel like home\n",
    "\n",
    "Miles away, The Fire King rules with a blazing hand\n",
    "His kingdom is a land of ash and flame\n",
    "He burns with courage, glory, and command\n",
    "And anyone who dares to cross his name\n",
    "\n",
    "He is the bravest of them all, he boasts\n",
    "His valor is as hot as summer's sun\n",
    "He is the hungriest of them all, he toasts\n",
    "His greed is as relentless as his fun\n",
    "\n",
    "He swore to conquer all the realms he sees\n",
    "From foes who try to quench his fiery reign\n",
    "He leads his fiery army, wild and free\n",
    "And makes his burning palace only remain\n",
    "\n",
    "The Fire King is a tyrant and a king\n",
    "He is the terror of the summer's sting\n",
    "\n",
    "The ice kingdom is a realm of wonder\n",
    "Where snowflakes dance and glaciers gleam\n",
    "The cold is not a curse, but a splendor\n",
    "That shapes the land into a dream\n",
    "\n",
    "The people of the ice are brave and wise\n",
    "They know the secrets of the frost and wind\n",
    "They live in harmony with the skies\n",
    "And share their stories with their kin\n",
    "\n",
    "The ice kingdom is a place of beauty\n",
    "Where crystal castles sparkle in the light\n",
    "The silence is not lonely, but a duty\n",
    "That guards the peace throughout the night\n",
    "\n",
    "The ice kingdom is a home and a treasure\n",
    "It is the source of joy and pleasure\n",
    "\n",
    " But The fire kingdom is a realm of horror\n",
    "Where flames devour and smoke obscures\n",
    "The heat is not a blessing, but a terror\n",
    "That tortures the land into a blur\n",
    "\n",
    "The people of the fire are cruel and mad\n",
    "They worship the inferno as their god\n",
    "They revel in the chaos and the sad\n",
    "And spread their misery with their rod\n",
    "\n",
    "The fire kingdom is a place of fear\n",
    "Where burning hells await the unwary\n",
    "The screams are not a music, but a jeer\n",
    "That mocks the pain throughout the fiery\n",
    "\n",
    "The fire kingdom is a hell and a nightmare\n",
    "It is the source of dread and despair\n",
    "\"\"\"\n",
    "paragraphs = segment_text_with_bert(text)"
   ]
  },
  {
   "cell_type": "code",
   "execution_count": 10,
   "metadata": {},
   "outputs": [
    {
     "data": {
      "text/plain": [
       "[]"
      ]
     },
     "execution_count": 10,
     "metadata": {},
     "output_type": "execute_result"
    }
   ],
   "source": [
    "paragraphs"
   ]
  },
  {
   "cell_type": "code",
   "execution_count": null,
   "metadata": {},
   "outputs": [],
   "source": []
  }
 ],
 "metadata": {
  "kernelspec": {
   "display_name": "Python 3",
   "language": "python",
   "name": "python3"
  },
  "language_info": {
   "codemirror_mode": {
    "name": "ipython",
    "version": 3
   },
   "file_extension": ".py",
   "mimetype": "text/x-python",
   "name": "python",
   "nbconvert_exporter": "python",
   "pygments_lexer": "ipython3",
   "version": "3.8.10"
  }
 },
 "nbformat": 4,
 "nbformat_minor": 2
}
